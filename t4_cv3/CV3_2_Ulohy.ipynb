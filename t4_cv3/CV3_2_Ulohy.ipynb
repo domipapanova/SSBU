{
 "cells": [
  {
   "cell_type": "markdown",
   "id": "497228f1-fa14-47b6-83a1-7038726dc50c",
   "metadata": {},
   "source": [
    "## Úlohy na cvičenie\n",
    "\n",
    "#### Úloha 1: Klasifikácia veku pacienta\n",
    "\n",
    "Vytvorte funkciu, ktorá každého pacienta zaradí do kategórie `minor` (<18 rokov), `adult` (18-65 rokov) alebo `senior` (>65 rokov). \n",
    "- Vstupom do funkcie je parameter `ages`, čo je štruktúra `list` obsahujúca vek niekoľkých pacientov.\n",
    "- Funkcia vracia štruktúru `dictionary`, ktorá pre každú kategóriu obsahuje počet pacientov v nej.\n",
    "- Vytvorte list `ages`, ktorý bude obsahovať aspoň 5 pacientov a vypíšte, počet pacientov podľa veku v jednotlivých kategóriách."
   ]
  },
  {
   "cell_type": "code",
   "execution_count": null,
   "id": "9ba64fc4-3e3d-4c1f-9e07-962ffe795964",
   "metadata": {},
   "outputs": [],
   "source": []
  },
  {
   "cell_type": "markdown",
   "id": "6a2eea7a-b43c-4e09-9040-210983983d22",
   "metadata": {},
   "source": [
    "#### Úloha 2: Spracovanie súborov s údajmi o pacientoch\n",
    "\n",
    "Zapište údaje o pacientoch (meno, diagnóza) do súboru s názvom `patients.csv`."
   ]
  },
  {
   "cell_type": "raw",
   "id": "b0cfcd94-236a-4423-beaf-24483826a3cc",
   "metadata": {},
   "source": [
    "data = [\n",
    "    [\"Terri Mcmillan\", \"Hypertension\"],\n",
    "    [\"David Thomas\", \"Diabetes\"],\n",
    "    [\"Joshua Stewart\", \"Diabetes\"],\n",
    "    [\"Jeffrey Martinez\", \"Depression\"],\n",
    "    [\"Victor Roth\", \"Chronic Pain\"],\n",
    "    [\"Timothy Schwartz\", \"Chronic Pain\"],\n",
    "    [\"Desiree Palmer\", \"Hypertension\"],\n",
    "    [\"Nathan Leonard\", \"Asthma\"],\n",
    "    [\"Sara Lane\", \"Chronic Pain\"],\n",
    "    [\"Ronald Riley\", \"Asthma\"],\n",
    "    [\"Brian Roberts\", \"Depression\"],\n",
    "    [\"Angel Harrington\", \"Hypertension\"],\n",
    "    [\"Christina Hernandez\", \"Hypertension\"],\n",
    "    [\"Christina Garza\", \"Asthma\"],\n",
    "    [\"Joshua Armstrong\", \"Diabetes\"],\n",
    "    [\"Lisa King\", \"Depression\"],\n",
    "    [\"Erica Ferguson\", \"Diabetes\"],\n",
    "    [\"Jesus Hansen\", \"Asthma\"],\n",
    "    [\"Michael Thompson\", \"Chronic Pain\"],\n",
    "    [\"Alexander Barajas\", \"Asthma\"]\n",
    "]"
   ]
  },
  {
   "cell_type": "code",
   "execution_count": null,
   "id": "307144ea-c176-42dd-b2ca-e6bf64ba6227",
   "metadata": {},
   "outputs": [],
   "source": []
  },
  {
   "cell_type": "markdown",
   "id": "b5c43341-bbc8-4073-8c66-fec5371c9486",
   "metadata": {},
   "source": [
    "#### Úloha 3: Načítanie údajov do štruktúry DataFrame a ich vizualizácia\n",
    "\n",
    "Načítajte údaje zo súboru `patients.csv` do štruktúry DataFrame (knižnica Pandas).\n",
    "- Vytvorte hlavičku pre tento DataFrame (pridajte názvy stĺpcov - `name` a `diagnosis`)\n",
    "- Pridajte do štruktúry DataFrame nový stĺpec s názvom \"ID\". hodnoty tohto stĺpca tvorí sekvencia čísel od 0 do 19.\n",
    "- Vypíšte hodnoty v stĺpci `diagnosis`\n",
    "- Vytvorte graf ktorý bude zobrazovať počty ľudí pre jednotlivé diagnózy."
   ]
  },
  {
   "cell_type": "code",
   "execution_count": null,
   "id": "95d48f3d-1171-47d5-852c-03752e0a8866",
   "metadata": {},
   "outputs": [],
   "source": []
  }
 ],
 "metadata": {
  "kernelspec": {
   "display_name": "Python 3 (ipykernel)",
   "language": "python",
   "name": "python3"
  },
  "language_info": {
   "codemirror_mode": {
    "name": "ipython",
    "version": 3
   },
   "file_extension": ".py",
   "mimetype": "text/x-python",
   "name": "python",
   "nbconvert_exporter": "python",
   "pygments_lexer": "ipython3",
   "version": "3.12.2"
  }
 },
 "nbformat": 4,
 "nbformat_minor": 5
}
