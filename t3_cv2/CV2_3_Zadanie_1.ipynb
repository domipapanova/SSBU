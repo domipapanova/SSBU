{
 "cells": [
  {
   "cell_type": "markdown",
   "id": "6854f873-5d15-4d3c-a71b-8858b7de6d12",
   "metadata": {},
   "source": [
    "## Zadanie 1 (5b)\n",
    "\n",
    "V tomto zadaní budete pracovať s datasetom Heart Failure Clinical Records, ktorý obsahuje záznamy pacientov so zlyhaním srdca, zozbierané počas obdobia ich sledovania.\n",
    "\n",
    "Dataset je dostupný online: https://archive.ics.uci.edu/dataset/519/heart+failure+clinical+records\n",
    "\n",
    "Na stránke nájdete aj doplňujúce informácie o premenných, ktoré dataset obsahuje. (Odporúčam prečítať :) ) \n"
   ]
  },
  {
   "cell_type": "code",
   "execution_count": 2,
   "id": "733c5405-0c0f-4066-b0ee-5667d34330cb",
   "metadata": {},
   "outputs": [
    {
     "name": "stderr",
     "output_type": "stream",
     "text": [
      "── \u001b[1mAttaching core tidyverse packages\u001b[22m ───────────────────────────────────────────────────────────────────────────── tidyverse 2.0.0 ──\n",
      "\u001b[32m✔\u001b[39m \u001b[34mdplyr    \u001b[39m 1.1.4     \u001b[32m✔\u001b[39m \u001b[34mreadr    \u001b[39m 2.1.5\n",
      "\u001b[32m✔\u001b[39m \u001b[34mforcats  \u001b[39m 1.0.0     \u001b[32m✔\u001b[39m \u001b[34mstringr  \u001b[39m 1.5.1\n",
      "\u001b[32m✔\u001b[39m \u001b[34mggplot2  \u001b[39m 3.5.0     \u001b[32m✔\u001b[39m \u001b[34mtibble   \u001b[39m 3.2.1\n",
      "\u001b[32m✔\u001b[39m \u001b[34mlubridate\u001b[39m 1.9.3     \u001b[32m✔\u001b[39m \u001b[34mtidyr    \u001b[39m 1.3.1\n",
      "\u001b[32m✔\u001b[39m \u001b[34mpurrr    \u001b[39m 1.0.2     \n",
      "── \u001b[1mConflicts\u001b[22m ─────────────────────────────────────────────────────────────────────────────────────────────── tidyverse_conflicts() ──\n",
      "\u001b[31m✖\u001b[39m \u001b[34mdplyr\u001b[39m::\u001b[32mfilter()\u001b[39m masks \u001b[34mstats\u001b[39m::filter()\n",
      "\u001b[31m✖\u001b[39m \u001b[34mdplyr\u001b[39m::\u001b[32mlag()\u001b[39m    masks \u001b[34mstats\u001b[39m::lag()\n",
      "\u001b[36mℹ\u001b[39m Use the conflicted package (\u001b[3m\u001b[34m<http://conflicted.r-lib.org/>\u001b[39m\u001b[23m) to force all conflicts to become errors\n",
      "corrplot 0.92 loaded\n",
      "\n"
     ]
    }
   ],
   "source": [
    "# link necessary libraries\n",
    "library(tidyverse)\n",
    "library(corrplot)\n",
    "\n",
    "# settings for plot visualisation\n",
    "options(repr.plot.height = 5, repr.plot.res = 200)"
   ]
  },
  {
   "cell_type": "markdown",
   "id": "a82f6441-a9ef-45fa-b529-02fa59f7798a",
   "metadata": {},
   "source": [
    "Načítanie datasetu - dataset viete funkciami dostupnými v R stiahnuť a rozbaliť aj z formátu ZIP"
   ]
  },
  {
   "cell_type": "code",
   "execution_count": 3,
   "id": "8db6cd70-f999-4b85-92ef-9156858e4be6",
   "metadata": {},
   "outputs": [],
   "source": [
    "# URL of the dataset\n",
    "dataset_url <- \"https://archive.ics.uci.edu/static/public/519/heart+failure+clinical+records.zip\"\n",
    "\n",
    "# create temporary destination file path with .zip extension\n",
    "dest_file <- tempfile(fileext = \".zip\")\n",
    "\n",
    "# download the dataset, mode = write binary\n",
    "download.file(dataset_url, destfile = dest_file, mode = \"wb\")\n",
    "\n",
    "# unzip the file into chosen location (enter directory)\n",
    "unzip(dest_file, exdir = \"data_1\") # TODO fill in"
   ]
  },
  {
   "cell_type": "markdown",
   "id": "8af7058b-20cf-4ece-8c7f-e2f38c33e94f",
   "metadata": {},
   "source": [
    "### Úloha 1 (1b)"
   ]
  },
  {
   "cell_type": "markdown",
   "id": "8ceeaa27-3e3e-4b13-9251-2a375fc948d1",
   "metadata": {},
   "source": [
    "Načítajte dataset do premennej `data_hw`."
   ]
  },
  {
   "cell_type": "code",
   "execution_count": 4,
   "id": "2b998cf8-0fa4-4240-80ca-a6c4c483ca52",
   "metadata": {
    "scrolled": true
   },
   "outputs": [],
   "source": [
    "dest_file = \"D:/UNIZA/ING/LETNY PRVAK/SSBU/SSBU/t3_cv2/data_1/heart_failure_clinical_records_dataset.csv\"\n",
    "data_hw <- read.csv(dest_file)\n"
   ]
  },
  {
   "cell_type": "markdown",
   "id": "dd2569f2-29f6-413f-8234-cf327307e2ee",
   "metadata": {},
   "source": [
    "   **Obsahuje dataset chýbajúce hodnoty (NA) ?** \n"
   ]
  },
  {
   "cell_type": "code",
   "execution_count": 5,
   "id": "f01a05bb-720e-48b9-a116-e020fd5f650d",
   "metadata": {},
   "outputs": [
    {
     "data": {
      "text/plain": [
       "      age           anaemia       creatinine_phosphokinase    diabetes     \n",
       " Min.   :40.00   Min.   :0.0000   Min.   :  23.0           Min.   :0.0000  \n",
       " 1st Qu.:51.00   1st Qu.:0.0000   1st Qu.: 116.5           1st Qu.:0.0000  \n",
       " Median :60.00   Median :0.0000   Median : 250.0           Median :0.0000  \n",
       " Mean   :60.83   Mean   :0.4314   Mean   : 581.8           Mean   :0.4181  \n",
       " 3rd Qu.:70.00   3rd Qu.:1.0000   3rd Qu.: 582.0           3rd Qu.:1.0000  \n",
       " Max.   :95.00   Max.   :1.0000   Max.   :7861.0           Max.   :1.0000  \n",
       " ejection_fraction high_blood_pressure   platelets      serum_creatinine\n",
       " Min.   :14.00     Min.   :0.0000      Min.   : 25100   Min.   :0.500   \n",
       " 1st Qu.:30.00     1st Qu.:0.0000      1st Qu.:212500   1st Qu.:0.900   \n",
       " Median :38.00     Median :0.0000      Median :262000   Median :1.100   \n",
       " Mean   :38.08     Mean   :0.3512      Mean   :263358   Mean   :1.394   \n",
       " 3rd Qu.:45.00     3rd Qu.:1.0000      3rd Qu.:303500   3rd Qu.:1.400   \n",
       " Max.   :80.00     Max.   :1.0000      Max.   :850000   Max.   :9.400   \n",
       "  serum_sodium        sex            smoking            time      \n",
       " Min.   :113.0   Min.   :0.0000   Min.   :0.0000   Min.   :  4.0  \n",
       " 1st Qu.:134.0   1st Qu.:0.0000   1st Qu.:0.0000   1st Qu.: 73.0  \n",
       " Median :137.0   Median :1.0000   Median :0.0000   Median :115.0  \n",
       " Mean   :136.6   Mean   :0.6488   Mean   :0.3211   Mean   :130.3  \n",
       " 3rd Qu.:140.0   3rd Qu.:1.0000   3rd Qu.:1.0000   3rd Qu.:203.0  \n",
       " Max.   :148.0   Max.   :1.0000   Max.   :1.0000   Max.   :285.0  \n",
       "  DEATH_EVENT    \n",
       " Min.   :0.0000  \n",
       " 1st Qu.:0.0000  \n",
       " Median :0.0000  \n",
       " Mean   :0.3211  \n",
       " 3rd Qu.:1.0000  \n",
       " Max.   :1.0000  "
      ]
     },
     "metadata": {},
     "output_type": "display_data"
    }
   ],
   "source": [
    "#na základe výsledkov summary dataset neobsahuje NA hodnoty\n",
    "summary(data_hw)\n"
   ]
  },
  {
   "cell_type": "markdown",
   "id": "0758892b-bfa0-490f-8da2-958df68ad526",
   "metadata": {},
   "source": [
    "**Aký typ majú vybrané premenné v datasete ? (numerické/kategorické)** (Ak by ste si pri niektorých premenných neboli istí, zdôvodnite svoju odpoveď.)\n",
    "- age - numerická \n",
    "- anaemia - kategorická\n",
    "- high_blood_pressure - kategorická\n",
    "- serum_sodium - numerická\n",
    "- death_event - kategorická"
   ]
  },
  {
   "cell_type": "code",
   "execution_count": 6,
   "id": "3b8b6413-6b03-44f4-9214-4ccf2274c110",
   "metadata": {},
   "outputs": [
    {
     "data": {
      "text/html": [
       "'numeric'"
      ],
      "text/latex": [
       "'numeric'"
      ],
      "text/markdown": [
       "'numeric'"
      ],
      "text/plain": [
       "[1] \"numeric\""
      ]
     },
     "metadata": {},
     "output_type": "display_data"
    },
    {
     "data": {
      "text/html": [
       "<style>\n",
       ".list-inline {list-style: none; margin:0; padding: 0}\n",
       ".list-inline>li {display: inline-block}\n",
       ".list-inline>li:not(:last-child)::after {content: \"\\00b7\"; padding: 0 .5ex}\n",
       "</style>\n",
       "<ol class=list-inline><li>75</li><li>55</li><li>65</li><li>50</li><li>90</li><li>60</li><li>80</li><li>62</li><li>45</li><li>49</li><li>82</li><li>87</li><li>70</li><li>48</li><li>68</li><li>53</li><li>95</li><li>58</li><li>94</li><li>85</li><li>69</li><li>72</li><li>51</li><li>57</li><li>42</li><li>41</li><li>67</li><li>79</li><li>59</li><li>44</li><li>63</li><li>86</li><li>66</li><li>43</li><li>46</li><li>61</li><li>81</li><li>52</li><li>64</li><li>40</li><li>60.667</li><li>73</li><li>77</li><li>78</li><li>54</li><li>47</li><li>56</li></ol>\n"
      ],
      "text/latex": [
       "\\begin{enumerate*}\n",
       "\\item 75\n",
       "\\item 55\n",
       "\\item 65\n",
       "\\item 50\n",
       "\\item 90\n",
       "\\item 60\n",
       "\\item 80\n",
       "\\item 62\n",
       "\\item 45\n",
       "\\item 49\n",
       "\\item 82\n",
       "\\item 87\n",
       "\\item 70\n",
       "\\item 48\n",
       "\\item 68\n",
       "\\item 53\n",
       "\\item 95\n",
       "\\item 58\n",
       "\\item 94\n",
       "\\item 85\n",
       "\\item 69\n",
       "\\item 72\n",
       "\\item 51\n",
       "\\item 57\n",
       "\\item 42\n",
       "\\item 41\n",
       "\\item 67\n",
       "\\item 79\n",
       "\\item 59\n",
       "\\item 44\n",
       "\\item 63\n",
       "\\item 86\n",
       "\\item 66\n",
       "\\item 43\n",
       "\\item 46\n",
       "\\item 61\n",
       "\\item 81\n",
       "\\item 52\n",
       "\\item 64\n",
       "\\item 40\n",
       "\\item 60.667\n",
       "\\item 73\n",
       "\\item 77\n",
       "\\item 78\n",
       "\\item 54\n",
       "\\item 47\n",
       "\\item 56\n",
       "\\end{enumerate*}\n"
      ],
      "text/markdown": [
       "1. 75\n",
       "2. 55\n",
       "3. 65\n",
       "4. 50\n",
       "5. 90\n",
       "6. 60\n",
       "7. 80\n",
       "8. 62\n",
       "9. 45\n",
       "10. 49\n",
       "11. 82\n",
       "12. 87\n",
       "13. 70\n",
       "14. 48\n",
       "15. 68\n",
       "16. 53\n",
       "17. 95\n",
       "18. 58\n",
       "19. 94\n",
       "20. 85\n",
       "21. 69\n",
       "22. 72\n",
       "23. 51\n",
       "24. 57\n",
       "25. 42\n",
       "26. 41\n",
       "27. 67\n",
       "28. 79\n",
       "29. 59\n",
       "30. 44\n",
       "31. 63\n",
       "32. 86\n",
       "33. 66\n",
       "34. 43\n",
       "35. 46\n",
       "36. 61\n",
       "37. 81\n",
       "38. 52\n",
       "39. 64\n",
       "40. 40\n",
       "41. 60.667\n",
       "42. 73\n",
       "43. 77\n",
       "44. 78\n",
       "45. 54\n",
       "46. 47\n",
       "47. 56\n",
       "\n",
       "\n"
      ],
      "text/plain": [
       " [1] 75.000 55.000 65.000 50.000 90.000 60.000 80.000 62.000 45.000 49.000\n",
       "[11] 82.000 87.000 70.000 48.000 68.000 53.000 95.000 58.000 94.000 85.000\n",
       "[21] 69.000 72.000 51.000 57.000 42.000 41.000 67.000 79.000 59.000 44.000\n",
       "[31] 63.000 86.000 66.000 43.000 46.000 61.000 81.000 52.000 64.000 40.000\n",
       "[41] 60.667 73.000 77.000 78.000 54.000 47.000 56.000"
      ]
     },
     "metadata": {},
     "output_type": "display_data"
    },
    {
     "data": {
      "text/html": [
       "'integer'"
      ],
      "text/latex": [
       "'integer'"
      ],
      "text/markdown": [
       "'integer'"
      ],
      "text/plain": [
       "[1] \"integer\""
      ]
     },
     "metadata": {},
     "output_type": "display_data"
    },
    {
     "data": {
      "text/html": [
       "<style>\n",
       ".list-inline {list-style: none; margin:0; padding: 0}\n",
       ".list-inline>li {display: inline-block}\n",
       ".list-inline>li:not(:last-child)::after {content: \"\\00b7\"; padding: 0 .5ex}\n",
       "</style>\n",
       "<ol class=list-inline><li>0</li><li>1</li></ol>\n"
      ],
      "text/latex": [
       "\\begin{enumerate*}\n",
       "\\item 0\n",
       "\\item 1\n",
       "\\end{enumerate*}\n"
      ],
      "text/markdown": [
       "1. 0\n",
       "2. 1\n",
       "\n",
       "\n"
      ],
      "text/plain": [
       "[1] 0 1"
      ]
     },
     "metadata": {},
     "output_type": "display_data"
    },
    {
     "data": {
      "text/html": [
       "'integer'"
      ],
      "text/latex": [
       "'integer'"
      ],
      "text/markdown": [
       "'integer'"
      ],
      "text/plain": [
       "[1] \"integer\""
      ]
     },
     "metadata": {},
     "output_type": "display_data"
    },
    {
     "data": {
      "text/html": [
       "<style>\n",
       ".list-inline {list-style: none; margin:0; padding: 0}\n",
       ".list-inline>li {display: inline-block}\n",
       ".list-inline>li:not(:last-child)::after {content: \"\\00b7\"; padding: 0 .5ex}\n",
       "</style>\n",
       "<ol class=list-inline><li>1</li><li>0</li></ol>\n"
      ],
      "text/latex": [
       "\\begin{enumerate*}\n",
       "\\item 1\n",
       "\\item 0\n",
       "\\end{enumerate*}\n"
      ],
      "text/markdown": [
       "1. 1\n",
       "2. 0\n",
       "\n",
       "\n"
      ],
      "text/plain": [
       "[1] 1 0"
      ]
     },
     "metadata": {},
     "output_type": "display_data"
    },
    {
     "data": {
      "text/html": [
       "'integer'"
      ],
      "text/latex": [
       "'integer'"
      ],
      "text/markdown": [
       "'integer'"
      ],
      "text/plain": [
       "[1] \"integer\""
      ]
     },
     "metadata": {},
     "output_type": "display_data"
    },
    {
     "data": {
      "text/html": [
       "<style>\n",
       ".list-inline {list-style: none; margin:0; padding: 0}\n",
       ".list-inline>li {display: inline-block}\n",
       ".list-inline>li:not(:last-child)::after {content: \"\\00b7\"; padding: 0 .5ex}\n",
       "</style>\n",
       "<ol class=list-inline><li>130</li><li>136</li><li>129</li><li>137</li><li>116</li><li>132</li><li>131</li><li>138</li><li>133</li><li>140</li><li>127</li><li>121</li><li>135</li><li>134</li><li>144</li><li>128</li><li>145</li><li>142</li><li>139</li><li>146</li><li>141</li><li>143</li><li>126</li><li>124</li><li>113</li><li>125</li><li>148</li></ol>\n"
      ],
      "text/latex": [
       "\\begin{enumerate*}\n",
       "\\item 130\n",
       "\\item 136\n",
       "\\item 129\n",
       "\\item 137\n",
       "\\item 116\n",
       "\\item 132\n",
       "\\item 131\n",
       "\\item 138\n",
       "\\item 133\n",
       "\\item 140\n",
       "\\item 127\n",
       "\\item 121\n",
       "\\item 135\n",
       "\\item 134\n",
       "\\item 144\n",
       "\\item 128\n",
       "\\item 145\n",
       "\\item 142\n",
       "\\item 139\n",
       "\\item 146\n",
       "\\item 141\n",
       "\\item 143\n",
       "\\item 126\n",
       "\\item 124\n",
       "\\item 113\n",
       "\\item 125\n",
       "\\item 148\n",
       "\\end{enumerate*}\n"
      ],
      "text/markdown": [
       "1. 130\n",
       "2. 136\n",
       "3. 129\n",
       "4. 137\n",
       "5. 116\n",
       "6. 132\n",
       "7. 131\n",
       "8. 138\n",
       "9. 133\n",
       "10. 140\n",
       "11. 127\n",
       "12. 121\n",
       "13. 135\n",
       "14. 134\n",
       "15. 144\n",
       "16. 128\n",
       "17. 145\n",
       "18. 142\n",
       "19. 139\n",
       "20. 146\n",
       "21. 141\n",
       "22. 143\n",
       "23. 126\n",
       "24. 124\n",
       "25. 113\n",
       "26. 125\n",
       "27. 148\n",
       "\n",
       "\n"
      ],
      "text/plain": [
       " [1] 130 136 129 137 116 132 131 138 133 140 127 121 135 134 144 128 145 142 139\n",
       "[20] 146 141 143 126 124 113 125 148"
      ]
     },
     "metadata": {},
     "output_type": "display_data"
    },
    {
     "data": {
      "text/html": [
       "'integer'"
      ],
      "text/latex": [
       "'integer'"
      ],
      "text/markdown": [
       "'integer'"
      ],
      "text/plain": [
       "[1] \"integer\""
      ]
     },
     "metadata": {},
     "output_type": "display_data"
    },
    {
     "data": {
      "text/html": [
       "<style>\n",
       ".list-inline {list-style: none; margin:0; padding: 0}\n",
       ".list-inline>li {display: inline-block}\n",
       ".list-inline>li:not(:last-child)::after {content: \"\\00b7\"; padding: 0 .5ex}\n",
       "</style>\n",
       "<ol class=list-inline><li>1</li><li>0</li></ol>\n"
      ],
      "text/latex": [
       "\\begin{enumerate*}\n",
       "\\item 1\n",
       "\\item 0\n",
       "\\end{enumerate*}\n"
      ],
      "text/markdown": [
       "1. 1\n",
       "2. 0\n",
       "\n",
       "\n"
      ],
      "text/plain": [
       "[1] 1 0"
      ]
     },
     "metadata": {},
     "output_type": "display_data"
    }
   ],
   "source": [
    "class(data_hw$age)\n",
    "unique(data_hw$age)\n",
    "class(data_hw$anaemia)\n",
    "unique(data_hw$anaemia)\n",
    "class(data_hw$high_blood_pressure)\n",
    "unique(data_hw$high_blood_pressure)\n",
    "class(data_hw$serum_sodium)\n",
    "unique(data_hw$serum_sodium)\n",
    "class(data_hw$DEATH_EVENT)\n",
    "unique(data_hw$DEATH_EVENT)\n",
    "\n",
    "\n"
   ]
  },
  {
   "cell_type": "markdown",
   "id": "22304314-9212-490d-a44b-62c2412888a9",
   "metadata": {},
   "source": [
    "**Obsahuje dataset duplicitné záznamy?**\n",
    "\n",
    "\n",
    " "
   ]
  },
  {
   "cell_type": "code",
   "execution_count": 7,
   "id": "b0e181d0-e569-43c9-a1b2-8621a3709e79",
   "metadata": {
    "scrolled": true
   },
   "outputs": [
    {
     "data": {
      "text/html": [
       "<table class=\"dataframe\">\n",
       "<caption>A data.frame: 299 × 13</caption>\n",
       "<thead>\n",
       "\t<tr><th scope=col>age</th><th scope=col>anaemia</th><th scope=col>creatinine_phosphokinase</th><th scope=col>diabetes</th><th scope=col>ejection_fraction</th><th scope=col>high_blood_pressure</th><th scope=col>platelets</th><th scope=col>serum_creatinine</th><th scope=col>serum_sodium</th><th scope=col>sex</th><th scope=col>smoking</th><th scope=col>time</th><th scope=col>DEATH_EVENT</th></tr>\n",
       "\t<tr><th scope=col>&lt;dbl&gt;</th><th scope=col>&lt;int&gt;</th><th scope=col>&lt;int&gt;</th><th scope=col>&lt;int&gt;</th><th scope=col>&lt;int&gt;</th><th scope=col>&lt;int&gt;</th><th scope=col>&lt;dbl&gt;</th><th scope=col>&lt;dbl&gt;</th><th scope=col>&lt;int&gt;</th><th scope=col>&lt;int&gt;</th><th scope=col>&lt;int&gt;</th><th scope=col>&lt;int&gt;</th><th scope=col>&lt;int&gt;</th></tr>\n",
       "</thead>\n",
       "<tbody>\n",
       "\t<tr><td>75</td><td>0</td><td> 582</td><td>0</td><td>20</td><td>1</td><td>265000</td><td>1.90</td><td>130</td><td>1</td><td>0</td><td> 4</td><td>1</td></tr>\n",
       "\t<tr><td>55</td><td>0</td><td>7861</td><td>0</td><td>38</td><td>0</td><td>263358</td><td>1.10</td><td>136</td><td>1</td><td>0</td><td> 6</td><td>1</td></tr>\n",
       "\t<tr><td>65</td><td>0</td><td> 146</td><td>0</td><td>20</td><td>0</td><td>162000</td><td>1.30</td><td>129</td><td>1</td><td>1</td><td> 7</td><td>1</td></tr>\n",
       "\t<tr><td>50</td><td>1</td><td> 111</td><td>0</td><td>20</td><td>0</td><td>210000</td><td>1.90</td><td>137</td><td>1</td><td>0</td><td> 7</td><td>1</td></tr>\n",
       "\t<tr><td>65</td><td>1</td><td> 160</td><td>1</td><td>20</td><td>0</td><td>327000</td><td>2.70</td><td>116</td><td>0</td><td>0</td><td> 8</td><td>1</td></tr>\n",
       "\t<tr><td>90</td><td>1</td><td>  47</td><td>0</td><td>40</td><td>1</td><td>204000</td><td>2.10</td><td>132</td><td>1</td><td>1</td><td> 8</td><td>1</td></tr>\n",
       "\t<tr><td>75</td><td>1</td><td> 246</td><td>0</td><td>15</td><td>0</td><td>127000</td><td>1.20</td><td>137</td><td>1</td><td>0</td><td>10</td><td>1</td></tr>\n",
       "\t<tr><td>60</td><td>1</td><td> 315</td><td>1</td><td>60</td><td>0</td><td>454000</td><td>1.10</td><td>131</td><td>1</td><td>1</td><td>10</td><td>1</td></tr>\n",
       "\t<tr><td>65</td><td>0</td><td> 157</td><td>0</td><td>65</td><td>0</td><td>263358</td><td>1.50</td><td>138</td><td>0</td><td>0</td><td>10</td><td>1</td></tr>\n",
       "\t<tr><td>80</td><td>1</td><td> 123</td><td>0</td><td>35</td><td>1</td><td>388000</td><td>9.40</td><td>133</td><td>1</td><td>1</td><td>10</td><td>1</td></tr>\n",
       "\t<tr><td>75</td><td>1</td><td>  81</td><td>0</td><td>38</td><td>1</td><td>368000</td><td>4.00</td><td>131</td><td>1</td><td>1</td><td>10</td><td>1</td></tr>\n",
       "\t<tr><td>62</td><td>0</td><td> 231</td><td>0</td><td>25</td><td>1</td><td>253000</td><td>0.90</td><td>140</td><td>1</td><td>1</td><td>10</td><td>1</td></tr>\n",
       "\t<tr><td>45</td><td>1</td><td> 981</td><td>0</td><td>30</td><td>0</td><td>136000</td><td>1.10</td><td>137</td><td>1</td><td>0</td><td>11</td><td>1</td></tr>\n",
       "\t<tr><td>50</td><td>1</td><td> 168</td><td>0</td><td>38</td><td>1</td><td>276000</td><td>1.10</td><td>137</td><td>1</td><td>0</td><td>11</td><td>1</td></tr>\n",
       "\t<tr><td>49</td><td>1</td><td>  80</td><td>0</td><td>30</td><td>1</td><td>427000</td><td>1.00</td><td>138</td><td>0</td><td>0</td><td>12</td><td>0</td></tr>\n",
       "\t<tr><td>82</td><td>1</td><td> 379</td><td>0</td><td>50</td><td>0</td><td> 47000</td><td>1.30</td><td>136</td><td>1</td><td>0</td><td>13</td><td>1</td></tr>\n",
       "\t<tr><td>87</td><td>1</td><td> 149</td><td>0</td><td>38</td><td>0</td><td>262000</td><td>0.90</td><td>140</td><td>1</td><td>0</td><td>14</td><td>1</td></tr>\n",
       "\t<tr><td>45</td><td>0</td><td> 582</td><td>0</td><td>14</td><td>0</td><td>166000</td><td>0.80</td><td>127</td><td>1</td><td>0</td><td>14</td><td>1</td></tr>\n",
       "\t<tr><td>70</td><td>1</td><td> 125</td><td>0</td><td>25</td><td>1</td><td>237000</td><td>1.00</td><td>140</td><td>0</td><td>0</td><td>15</td><td>1</td></tr>\n",
       "\t<tr><td>48</td><td>1</td><td> 582</td><td>1</td><td>55</td><td>0</td><td> 87000</td><td>1.90</td><td>121</td><td>0</td><td>0</td><td>15</td><td>1</td></tr>\n",
       "\t<tr><td>65</td><td>1</td><td>  52</td><td>0</td><td>25</td><td>1</td><td>276000</td><td>1.30</td><td>137</td><td>0</td><td>0</td><td>16</td><td>0</td></tr>\n",
       "\t<tr><td>65</td><td>1</td><td> 128</td><td>1</td><td>30</td><td>1</td><td>297000</td><td>1.60</td><td>136</td><td>0</td><td>0</td><td>20</td><td>1</td></tr>\n",
       "\t<tr><td>68</td><td>1</td><td> 220</td><td>0</td><td>35</td><td>1</td><td>289000</td><td>0.90</td><td>140</td><td>1</td><td>1</td><td>20</td><td>1</td></tr>\n",
       "\t<tr><td>53</td><td>0</td><td>  63</td><td>1</td><td>60</td><td>0</td><td>368000</td><td>0.80</td><td>135</td><td>1</td><td>0</td><td>22</td><td>0</td></tr>\n",
       "\t<tr><td>75</td><td>0</td><td> 582</td><td>1</td><td>30</td><td>1</td><td>263358</td><td>1.83</td><td>134</td><td>0</td><td>0</td><td>23</td><td>1</td></tr>\n",
       "\t<tr><td>80</td><td>0</td><td> 148</td><td>1</td><td>38</td><td>0</td><td>149000</td><td>1.90</td><td>144</td><td>1</td><td>1</td><td>23</td><td>1</td></tr>\n",
       "\t<tr><td>95</td><td>1</td><td> 112</td><td>0</td><td>40</td><td>1</td><td>196000</td><td>1.00</td><td>138</td><td>0</td><td>0</td><td>24</td><td>1</td></tr>\n",
       "\t<tr><td>70</td><td>0</td><td> 122</td><td>1</td><td>45</td><td>1</td><td>284000</td><td>1.30</td><td>136</td><td>1</td><td>1</td><td>26</td><td>1</td></tr>\n",
       "\t<tr><td>58</td><td>1</td><td>  60</td><td>0</td><td>38</td><td>0</td><td>153000</td><td>5.80</td><td>134</td><td>1</td><td>0</td><td>26</td><td>1</td></tr>\n",
       "\t<tr><td>82</td><td>0</td><td>  70</td><td>1</td><td>30</td><td>0</td><td>200000</td><td>1.20</td><td>132</td><td>1</td><td>1</td><td>26</td><td>1</td></tr>\n",
       "\t<tr><td>⋮</td><td>⋮</td><td>⋮</td><td>⋮</td><td>⋮</td><td>⋮</td><td>⋮</td><td>⋮</td><td>⋮</td><td>⋮</td><td>⋮</td><td>⋮</td><td>⋮</td></tr>\n",
       "\t<tr><td>40</td><td>0</td><td> 582</td><td>1</td><td>35</td><td>0</td><td>222000</td><td>1.0</td><td>132</td><td>1</td><td>0</td><td>244</td><td>0</td></tr>\n",
       "\t<tr><td>44</td><td>0</td><td> 582</td><td>1</td><td>30</td><td>1</td><td>263358</td><td>1.6</td><td>130</td><td>1</td><td>1</td><td>244</td><td>0</td></tr>\n",
       "\t<tr><td>51</td><td>0</td><td> 582</td><td>1</td><td>40</td><td>0</td><td>221000</td><td>0.9</td><td>134</td><td>0</td><td>0</td><td>244</td><td>0</td></tr>\n",
       "\t<tr><td>67</td><td>0</td><td> 213</td><td>0</td><td>38</td><td>0</td><td>215000</td><td>1.2</td><td>133</td><td>0</td><td>0</td><td>245</td><td>0</td></tr>\n",
       "\t<tr><td>42</td><td>0</td><td>  64</td><td>0</td><td>40</td><td>0</td><td>189000</td><td>0.7</td><td>140</td><td>1</td><td>0</td><td>245</td><td>0</td></tr>\n",
       "\t<tr><td>60</td><td>1</td><td> 257</td><td>1</td><td>30</td><td>0</td><td>150000</td><td>1.0</td><td>137</td><td>1</td><td>1</td><td>245</td><td>0</td></tr>\n",
       "\t<tr><td>45</td><td>0</td><td> 582</td><td>0</td><td>38</td><td>1</td><td>422000</td><td>0.8</td><td>137</td><td>0</td><td>0</td><td>245</td><td>0</td></tr>\n",
       "\t<tr><td>70</td><td>0</td><td> 618</td><td>0</td><td>35</td><td>0</td><td>327000</td><td>1.1</td><td>142</td><td>0</td><td>0</td><td>245</td><td>0</td></tr>\n",
       "\t<tr><td>70</td><td>0</td><td> 582</td><td>1</td><td>38</td><td>0</td><td> 25100</td><td>1.1</td><td>140</td><td>1</td><td>0</td><td>246</td><td>0</td></tr>\n",
       "\t<tr><td>50</td><td>1</td><td>1051</td><td>1</td><td>30</td><td>0</td><td>232000</td><td>0.7</td><td>136</td><td>0</td><td>0</td><td>246</td><td>0</td></tr>\n",
       "\t<tr><td>55</td><td>0</td><td>  84</td><td>1</td><td>38</td><td>0</td><td>451000</td><td>1.3</td><td>136</td><td>0</td><td>0</td><td>246</td><td>0</td></tr>\n",
       "\t<tr><td>70</td><td>0</td><td>2695</td><td>1</td><td>40</td><td>0</td><td>241000</td><td>1.0</td><td>137</td><td>1</td><td>0</td><td>247</td><td>0</td></tr>\n",
       "\t<tr><td>70</td><td>0</td><td> 582</td><td>0</td><td>40</td><td>0</td><td> 51000</td><td>2.7</td><td>136</td><td>1</td><td>1</td><td>250</td><td>0</td></tr>\n",
       "\t<tr><td>42</td><td>0</td><td>  64</td><td>0</td><td>30</td><td>0</td><td>215000</td><td>3.8</td><td>128</td><td>1</td><td>1</td><td>250</td><td>0</td></tr>\n",
       "\t<tr><td>65</td><td>0</td><td>1688</td><td>0</td><td>38</td><td>0</td><td>263358</td><td>1.1</td><td>138</td><td>1</td><td>1</td><td>250</td><td>0</td></tr>\n",
       "\t<tr><td>50</td><td>1</td><td>  54</td><td>0</td><td>40</td><td>0</td><td>279000</td><td>0.8</td><td>141</td><td>1</td><td>0</td><td>250</td><td>0</td></tr>\n",
       "\t<tr><td>55</td><td>1</td><td> 170</td><td>1</td><td>40</td><td>0</td><td>336000</td><td>1.2</td><td>135</td><td>1</td><td>0</td><td>250</td><td>0</td></tr>\n",
       "\t<tr><td>60</td><td>0</td><td> 253</td><td>0</td><td>35</td><td>0</td><td>279000</td><td>1.7</td><td>140</td><td>1</td><td>0</td><td>250</td><td>0</td></tr>\n",
       "\t<tr><td>45</td><td>0</td><td> 582</td><td>1</td><td>55</td><td>0</td><td>543000</td><td>1.0</td><td>132</td><td>0</td><td>0</td><td>250</td><td>0</td></tr>\n",
       "\t<tr><td>65</td><td>0</td><td> 892</td><td>1</td><td>35</td><td>0</td><td>263358</td><td>1.1</td><td>142</td><td>0</td><td>0</td><td>256</td><td>0</td></tr>\n",
       "\t<tr><td>90</td><td>1</td><td> 337</td><td>0</td><td>38</td><td>0</td><td>390000</td><td>0.9</td><td>144</td><td>0</td><td>0</td><td>256</td><td>0</td></tr>\n",
       "\t<tr><td>45</td><td>0</td><td> 615</td><td>1</td><td>55</td><td>0</td><td>222000</td><td>0.8</td><td>141</td><td>0</td><td>0</td><td>257</td><td>0</td></tr>\n",
       "\t<tr><td>60</td><td>0</td><td> 320</td><td>0</td><td>35</td><td>0</td><td>133000</td><td>1.4</td><td>139</td><td>1</td><td>0</td><td>258</td><td>0</td></tr>\n",
       "\t<tr><td>52</td><td>0</td><td> 190</td><td>1</td><td>38</td><td>0</td><td>382000</td><td>1.0</td><td>140</td><td>1</td><td>1</td><td>258</td><td>0</td></tr>\n",
       "\t<tr><td>63</td><td>1</td><td> 103</td><td>1</td><td>35</td><td>0</td><td>179000</td><td>0.9</td><td>136</td><td>1</td><td>1</td><td>270</td><td>0</td></tr>\n",
       "\t<tr><td>62</td><td>0</td><td>  61</td><td>1</td><td>38</td><td>1</td><td>155000</td><td>1.1</td><td>143</td><td>1</td><td>1</td><td>270</td><td>0</td></tr>\n",
       "\t<tr><td>55</td><td>0</td><td>1820</td><td>0</td><td>38</td><td>0</td><td>270000</td><td>1.2</td><td>139</td><td>0</td><td>0</td><td>271</td><td>0</td></tr>\n",
       "\t<tr><td>45</td><td>0</td><td>2060</td><td>1</td><td>60</td><td>0</td><td>742000</td><td>0.8</td><td>138</td><td>0</td><td>0</td><td>278</td><td>0</td></tr>\n",
       "\t<tr><td>45</td><td>0</td><td>2413</td><td>0</td><td>38</td><td>0</td><td>140000</td><td>1.4</td><td>140</td><td>1</td><td>1</td><td>280</td><td>0</td></tr>\n",
       "\t<tr><td>50</td><td>0</td><td> 196</td><td>0</td><td>45</td><td>0</td><td>395000</td><td>1.6</td><td>136</td><td>1</td><td>1</td><td>285</td><td>0</td></tr>\n",
       "</tbody>\n",
       "</table>\n"
      ],
      "text/latex": [
       "A data.frame: 299 × 13\n",
       "\\begin{tabular}{lllllllllllll}\n",
       " age & anaemia & creatinine\\_phosphokinase & diabetes & ejection\\_fraction & high\\_blood\\_pressure & platelets & serum\\_creatinine & serum\\_sodium & sex & smoking & time & DEATH\\_EVENT\\\\\n",
       " <dbl> & <int> & <int> & <int> & <int> & <int> & <dbl> & <dbl> & <int> & <int> & <int> & <int> & <int>\\\\\n",
       "\\hline\n",
       "\t 75 & 0 &  582 & 0 & 20 & 1 & 265000 & 1.90 & 130 & 1 & 0 &  4 & 1\\\\\n",
       "\t 55 & 0 & 7861 & 0 & 38 & 0 & 263358 & 1.10 & 136 & 1 & 0 &  6 & 1\\\\\n",
       "\t 65 & 0 &  146 & 0 & 20 & 0 & 162000 & 1.30 & 129 & 1 & 1 &  7 & 1\\\\\n",
       "\t 50 & 1 &  111 & 0 & 20 & 0 & 210000 & 1.90 & 137 & 1 & 0 &  7 & 1\\\\\n",
       "\t 65 & 1 &  160 & 1 & 20 & 0 & 327000 & 2.70 & 116 & 0 & 0 &  8 & 1\\\\\n",
       "\t 90 & 1 &   47 & 0 & 40 & 1 & 204000 & 2.10 & 132 & 1 & 1 &  8 & 1\\\\\n",
       "\t 75 & 1 &  246 & 0 & 15 & 0 & 127000 & 1.20 & 137 & 1 & 0 & 10 & 1\\\\\n",
       "\t 60 & 1 &  315 & 1 & 60 & 0 & 454000 & 1.10 & 131 & 1 & 1 & 10 & 1\\\\\n",
       "\t 65 & 0 &  157 & 0 & 65 & 0 & 263358 & 1.50 & 138 & 0 & 0 & 10 & 1\\\\\n",
       "\t 80 & 1 &  123 & 0 & 35 & 1 & 388000 & 9.40 & 133 & 1 & 1 & 10 & 1\\\\\n",
       "\t 75 & 1 &   81 & 0 & 38 & 1 & 368000 & 4.00 & 131 & 1 & 1 & 10 & 1\\\\\n",
       "\t 62 & 0 &  231 & 0 & 25 & 1 & 253000 & 0.90 & 140 & 1 & 1 & 10 & 1\\\\\n",
       "\t 45 & 1 &  981 & 0 & 30 & 0 & 136000 & 1.10 & 137 & 1 & 0 & 11 & 1\\\\\n",
       "\t 50 & 1 &  168 & 0 & 38 & 1 & 276000 & 1.10 & 137 & 1 & 0 & 11 & 1\\\\\n",
       "\t 49 & 1 &   80 & 0 & 30 & 1 & 427000 & 1.00 & 138 & 0 & 0 & 12 & 0\\\\\n",
       "\t 82 & 1 &  379 & 0 & 50 & 0 &  47000 & 1.30 & 136 & 1 & 0 & 13 & 1\\\\\n",
       "\t 87 & 1 &  149 & 0 & 38 & 0 & 262000 & 0.90 & 140 & 1 & 0 & 14 & 1\\\\\n",
       "\t 45 & 0 &  582 & 0 & 14 & 0 & 166000 & 0.80 & 127 & 1 & 0 & 14 & 1\\\\\n",
       "\t 70 & 1 &  125 & 0 & 25 & 1 & 237000 & 1.00 & 140 & 0 & 0 & 15 & 1\\\\\n",
       "\t 48 & 1 &  582 & 1 & 55 & 0 &  87000 & 1.90 & 121 & 0 & 0 & 15 & 1\\\\\n",
       "\t 65 & 1 &   52 & 0 & 25 & 1 & 276000 & 1.30 & 137 & 0 & 0 & 16 & 0\\\\\n",
       "\t 65 & 1 &  128 & 1 & 30 & 1 & 297000 & 1.60 & 136 & 0 & 0 & 20 & 1\\\\\n",
       "\t 68 & 1 &  220 & 0 & 35 & 1 & 289000 & 0.90 & 140 & 1 & 1 & 20 & 1\\\\\n",
       "\t 53 & 0 &   63 & 1 & 60 & 0 & 368000 & 0.80 & 135 & 1 & 0 & 22 & 0\\\\\n",
       "\t 75 & 0 &  582 & 1 & 30 & 1 & 263358 & 1.83 & 134 & 0 & 0 & 23 & 1\\\\\n",
       "\t 80 & 0 &  148 & 1 & 38 & 0 & 149000 & 1.90 & 144 & 1 & 1 & 23 & 1\\\\\n",
       "\t 95 & 1 &  112 & 0 & 40 & 1 & 196000 & 1.00 & 138 & 0 & 0 & 24 & 1\\\\\n",
       "\t 70 & 0 &  122 & 1 & 45 & 1 & 284000 & 1.30 & 136 & 1 & 1 & 26 & 1\\\\\n",
       "\t 58 & 1 &   60 & 0 & 38 & 0 & 153000 & 5.80 & 134 & 1 & 0 & 26 & 1\\\\\n",
       "\t 82 & 0 &   70 & 1 & 30 & 0 & 200000 & 1.20 & 132 & 1 & 1 & 26 & 1\\\\\n",
       "\t ⋮ & ⋮ & ⋮ & ⋮ & ⋮ & ⋮ & ⋮ & ⋮ & ⋮ & ⋮ & ⋮ & ⋮ & ⋮\\\\\n",
       "\t 40 & 0 &  582 & 1 & 35 & 0 & 222000 & 1.0 & 132 & 1 & 0 & 244 & 0\\\\\n",
       "\t 44 & 0 &  582 & 1 & 30 & 1 & 263358 & 1.6 & 130 & 1 & 1 & 244 & 0\\\\\n",
       "\t 51 & 0 &  582 & 1 & 40 & 0 & 221000 & 0.9 & 134 & 0 & 0 & 244 & 0\\\\\n",
       "\t 67 & 0 &  213 & 0 & 38 & 0 & 215000 & 1.2 & 133 & 0 & 0 & 245 & 0\\\\\n",
       "\t 42 & 0 &   64 & 0 & 40 & 0 & 189000 & 0.7 & 140 & 1 & 0 & 245 & 0\\\\\n",
       "\t 60 & 1 &  257 & 1 & 30 & 0 & 150000 & 1.0 & 137 & 1 & 1 & 245 & 0\\\\\n",
       "\t 45 & 0 &  582 & 0 & 38 & 1 & 422000 & 0.8 & 137 & 0 & 0 & 245 & 0\\\\\n",
       "\t 70 & 0 &  618 & 0 & 35 & 0 & 327000 & 1.1 & 142 & 0 & 0 & 245 & 0\\\\\n",
       "\t 70 & 0 &  582 & 1 & 38 & 0 &  25100 & 1.1 & 140 & 1 & 0 & 246 & 0\\\\\n",
       "\t 50 & 1 & 1051 & 1 & 30 & 0 & 232000 & 0.7 & 136 & 0 & 0 & 246 & 0\\\\\n",
       "\t 55 & 0 &   84 & 1 & 38 & 0 & 451000 & 1.3 & 136 & 0 & 0 & 246 & 0\\\\\n",
       "\t 70 & 0 & 2695 & 1 & 40 & 0 & 241000 & 1.0 & 137 & 1 & 0 & 247 & 0\\\\\n",
       "\t 70 & 0 &  582 & 0 & 40 & 0 &  51000 & 2.7 & 136 & 1 & 1 & 250 & 0\\\\\n",
       "\t 42 & 0 &   64 & 0 & 30 & 0 & 215000 & 3.8 & 128 & 1 & 1 & 250 & 0\\\\\n",
       "\t 65 & 0 & 1688 & 0 & 38 & 0 & 263358 & 1.1 & 138 & 1 & 1 & 250 & 0\\\\\n",
       "\t 50 & 1 &   54 & 0 & 40 & 0 & 279000 & 0.8 & 141 & 1 & 0 & 250 & 0\\\\\n",
       "\t 55 & 1 &  170 & 1 & 40 & 0 & 336000 & 1.2 & 135 & 1 & 0 & 250 & 0\\\\\n",
       "\t 60 & 0 &  253 & 0 & 35 & 0 & 279000 & 1.7 & 140 & 1 & 0 & 250 & 0\\\\\n",
       "\t 45 & 0 &  582 & 1 & 55 & 0 & 543000 & 1.0 & 132 & 0 & 0 & 250 & 0\\\\\n",
       "\t 65 & 0 &  892 & 1 & 35 & 0 & 263358 & 1.1 & 142 & 0 & 0 & 256 & 0\\\\\n",
       "\t 90 & 1 &  337 & 0 & 38 & 0 & 390000 & 0.9 & 144 & 0 & 0 & 256 & 0\\\\\n",
       "\t 45 & 0 &  615 & 1 & 55 & 0 & 222000 & 0.8 & 141 & 0 & 0 & 257 & 0\\\\\n",
       "\t 60 & 0 &  320 & 0 & 35 & 0 & 133000 & 1.4 & 139 & 1 & 0 & 258 & 0\\\\\n",
       "\t 52 & 0 &  190 & 1 & 38 & 0 & 382000 & 1.0 & 140 & 1 & 1 & 258 & 0\\\\\n",
       "\t 63 & 1 &  103 & 1 & 35 & 0 & 179000 & 0.9 & 136 & 1 & 1 & 270 & 0\\\\\n",
       "\t 62 & 0 &   61 & 1 & 38 & 1 & 155000 & 1.1 & 143 & 1 & 1 & 270 & 0\\\\\n",
       "\t 55 & 0 & 1820 & 0 & 38 & 0 & 270000 & 1.2 & 139 & 0 & 0 & 271 & 0\\\\\n",
       "\t 45 & 0 & 2060 & 1 & 60 & 0 & 742000 & 0.8 & 138 & 0 & 0 & 278 & 0\\\\\n",
       "\t 45 & 0 & 2413 & 0 & 38 & 0 & 140000 & 1.4 & 140 & 1 & 1 & 280 & 0\\\\\n",
       "\t 50 & 0 &  196 & 0 & 45 & 0 & 395000 & 1.6 & 136 & 1 & 1 & 285 & 0\\\\\n",
       "\\end{tabular}\n"
      ],
      "text/markdown": [
       "\n",
       "A data.frame: 299 × 13\n",
       "\n",
       "| age &lt;dbl&gt; | anaemia &lt;int&gt; | creatinine_phosphokinase &lt;int&gt; | diabetes &lt;int&gt; | ejection_fraction &lt;int&gt; | high_blood_pressure &lt;int&gt; | platelets &lt;dbl&gt; | serum_creatinine &lt;dbl&gt; | serum_sodium &lt;int&gt; | sex &lt;int&gt; | smoking &lt;int&gt; | time &lt;int&gt; | DEATH_EVENT &lt;int&gt; |\n",
       "|---|---|---|---|---|---|---|---|---|---|---|---|---|\n",
       "| 75 | 0 |  582 | 0 | 20 | 1 | 265000 | 1.90 | 130 | 1 | 0 |  4 | 1 |\n",
       "| 55 | 0 | 7861 | 0 | 38 | 0 | 263358 | 1.10 | 136 | 1 | 0 |  6 | 1 |\n",
       "| 65 | 0 |  146 | 0 | 20 | 0 | 162000 | 1.30 | 129 | 1 | 1 |  7 | 1 |\n",
       "| 50 | 1 |  111 | 0 | 20 | 0 | 210000 | 1.90 | 137 | 1 | 0 |  7 | 1 |\n",
       "| 65 | 1 |  160 | 1 | 20 | 0 | 327000 | 2.70 | 116 | 0 | 0 |  8 | 1 |\n",
       "| 90 | 1 |   47 | 0 | 40 | 1 | 204000 | 2.10 | 132 | 1 | 1 |  8 | 1 |\n",
       "| 75 | 1 |  246 | 0 | 15 | 0 | 127000 | 1.20 | 137 | 1 | 0 | 10 | 1 |\n",
       "| 60 | 1 |  315 | 1 | 60 | 0 | 454000 | 1.10 | 131 | 1 | 1 | 10 | 1 |\n",
       "| 65 | 0 |  157 | 0 | 65 | 0 | 263358 | 1.50 | 138 | 0 | 0 | 10 | 1 |\n",
       "| 80 | 1 |  123 | 0 | 35 | 1 | 388000 | 9.40 | 133 | 1 | 1 | 10 | 1 |\n",
       "| 75 | 1 |   81 | 0 | 38 | 1 | 368000 | 4.00 | 131 | 1 | 1 | 10 | 1 |\n",
       "| 62 | 0 |  231 | 0 | 25 | 1 | 253000 | 0.90 | 140 | 1 | 1 | 10 | 1 |\n",
       "| 45 | 1 |  981 | 0 | 30 | 0 | 136000 | 1.10 | 137 | 1 | 0 | 11 | 1 |\n",
       "| 50 | 1 |  168 | 0 | 38 | 1 | 276000 | 1.10 | 137 | 1 | 0 | 11 | 1 |\n",
       "| 49 | 1 |   80 | 0 | 30 | 1 | 427000 | 1.00 | 138 | 0 | 0 | 12 | 0 |\n",
       "| 82 | 1 |  379 | 0 | 50 | 0 |  47000 | 1.30 | 136 | 1 | 0 | 13 | 1 |\n",
       "| 87 | 1 |  149 | 0 | 38 | 0 | 262000 | 0.90 | 140 | 1 | 0 | 14 | 1 |\n",
       "| 45 | 0 |  582 | 0 | 14 | 0 | 166000 | 0.80 | 127 | 1 | 0 | 14 | 1 |\n",
       "| 70 | 1 |  125 | 0 | 25 | 1 | 237000 | 1.00 | 140 | 0 | 0 | 15 | 1 |\n",
       "| 48 | 1 |  582 | 1 | 55 | 0 |  87000 | 1.90 | 121 | 0 | 0 | 15 | 1 |\n",
       "| 65 | 1 |   52 | 0 | 25 | 1 | 276000 | 1.30 | 137 | 0 | 0 | 16 | 0 |\n",
       "| 65 | 1 |  128 | 1 | 30 | 1 | 297000 | 1.60 | 136 | 0 | 0 | 20 | 1 |\n",
       "| 68 | 1 |  220 | 0 | 35 | 1 | 289000 | 0.90 | 140 | 1 | 1 | 20 | 1 |\n",
       "| 53 | 0 |   63 | 1 | 60 | 0 | 368000 | 0.80 | 135 | 1 | 0 | 22 | 0 |\n",
       "| 75 | 0 |  582 | 1 | 30 | 1 | 263358 | 1.83 | 134 | 0 | 0 | 23 | 1 |\n",
       "| 80 | 0 |  148 | 1 | 38 | 0 | 149000 | 1.90 | 144 | 1 | 1 | 23 | 1 |\n",
       "| 95 | 1 |  112 | 0 | 40 | 1 | 196000 | 1.00 | 138 | 0 | 0 | 24 | 1 |\n",
       "| 70 | 0 |  122 | 1 | 45 | 1 | 284000 | 1.30 | 136 | 1 | 1 | 26 | 1 |\n",
       "| 58 | 1 |   60 | 0 | 38 | 0 | 153000 | 5.80 | 134 | 1 | 0 | 26 | 1 |\n",
       "| 82 | 0 |   70 | 1 | 30 | 0 | 200000 | 1.20 | 132 | 1 | 1 | 26 | 1 |\n",
       "| ⋮ | ⋮ | ⋮ | ⋮ | ⋮ | ⋮ | ⋮ | ⋮ | ⋮ | ⋮ | ⋮ | ⋮ | ⋮ |\n",
       "| 40 | 0 |  582 | 1 | 35 | 0 | 222000 | 1.0 | 132 | 1 | 0 | 244 | 0 |\n",
       "| 44 | 0 |  582 | 1 | 30 | 1 | 263358 | 1.6 | 130 | 1 | 1 | 244 | 0 |\n",
       "| 51 | 0 |  582 | 1 | 40 | 0 | 221000 | 0.9 | 134 | 0 | 0 | 244 | 0 |\n",
       "| 67 | 0 |  213 | 0 | 38 | 0 | 215000 | 1.2 | 133 | 0 | 0 | 245 | 0 |\n",
       "| 42 | 0 |   64 | 0 | 40 | 0 | 189000 | 0.7 | 140 | 1 | 0 | 245 | 0 |\n",
       "| 60 | 1 |  257 | 1 | 30 | 0 | 150000 | 1.0 | 137 | 1 | 1 | 245 | 0 |\n",
       "| 45 | 0 |  582 | 0 | 38 | 1 | 422000 | 0.8 | 137 | 0 | 0 | 245 | 0 |\n",
       "| 70 | 0 |  618 | 0 | 35 | 0 | 327000 | 1.1 | 142 | 0 | 0 | 245 | 0 |\n",
       "| 70 | 0 |  582 | 1 | 38 | 0 |  25100 | 1.1 | 140 | 1 | 0 | 246 | 0 |\n",
       "| 50 | 1 | 1051 | 1 | 30 | 0 | 232000 | 0.7 | 136 | 0 | 0 | 246 | 0 |\n",
       "| 55 | 0 |   84 | 1 | 38 | 0 | 451000 | 1.3 | 136 | 0 | 0 | 246 | 0 |\n",
       "| 70 | 0 | 2695 | 1 | 40 | 0 | 241000 | 1.0 | 137 | 1 | 0 | 247 | 0 |\n",
       "| 70 | 0 |  582 | 0 | 40 | 0 |  51000 | 2.7 | 136 | 1 | 1 | 250 | 0 |\n",
       "| 42 | 0 |   64 | 0 | 30 | 0 | 215000 | 3.8 | 128 | 1 | 1 | 250 | 0 |\n",
       "| 65 | 0 | 1688 | 0 | 38 | 0 | 263358 | 1.1 | 138 | 1 | 1 | 250 | 0 |\n",
       "| 50 | 1 |   54 | 0 | 40 | 0 | 279000 | 0.8 | 141 | 1 | 0 | 250 | 0 |\n",
       "| 55 | 1 |  170 | 1 | 40 | 0 | 336000 | 1.2 | 135 | 1 | 0 | 250 | 0 |\n",
       "| 60 | 0 |  253 | 0 | 35 | 0 | 279000 | 1.7 | 140 | 1 | 0 | 250 | 0 |\n",
       "| 45 | 0 |  582 | 1 | 55 | 0 | 543000 | 1.0 | 132 | 0 | 0 | 250 | 0 |\n",
       "| 65 | 0 |  892 | 1 | 35 | 0 | 263358 | 1.1 | 142 | 0 | 0 | 256 | 0 |\n",
       "| 90 | 1 |  337 | 0 | 38 | 0 | 390000 | 0.9 | 144 | 0 | 0 | 256 | 0 |\n",
       "| 45 | 0 |  615 | 1 | 55 | 0 | 222000 | 0.8 | 141 | 0 | 0 | 257 | 0 |\n",
       "| 60 | 0 |  320 | 0 | 35 | 0 | 133000 | 1.4 | 139 | 1 | 0 | 258 | 0 |\n",
       "| 52 | 0 |  190 | 1 | 38 | 0 | 382000 | 1.0 | 140 | 1 | 1 | 258 | 0 |\n",
       "| 63 | 1 |  103 | 1 | 35 | 0 | 179000 | 0.9 | 136 | 1 | 1 | 270 | 0 |\n",
       "| 62 | 0 |   61 | 1 | 38 | 1 | 155000 | 1.1 | 143 | 1 | 1 | 270 | 0 |\n",
       "| 55 | 0 | 1820 | 0 | 38 | 0 | 270000 | 1.2 | 139 | 0 | 0 | 271 | 0 |\n",
       "| 45 | 0 | 2060 | 1 | 60 | 0 | 742000 | 0.8 | 138 | 0 | 0 | 278 | 0 |\n",
       "| 45 | 0 | 2413 | 0 | 38 | 0 | 140000 | 1.4 | 140 | 1 | 1 | 280 | 0 |\n",
       "| 50 | 0 |  196 | 0 | 45 | 0 | 395000 | 1.6 | 136 | 1 | 1 | 285 | 0 |\n",
       "\n"
      ],
      "text/plain": [
       "    age anaemia creatinine_phosphokinase diabetes ejection_fraction\n",
       "1   75  0        582                     0        20               \n",
       "2   55  0       7861                     0        38               \n",
       "3   65  0        146                     0        20               \n",
       "4   50  1        111                     0        20               \n",
       "5   65  1        160                     1        20               \n",
       "6   90  1         47                     0        40               \n",
       "7   75  1        246                     0        15               \n",
       "8   60  1        315                     1        60               \n",
       "9   65  0        157                     0        65               \n",
       "10  80  1        123                     0        35               \n",
       "11  75  1         81                     0        38               \n",
       "12  62  0        231                     0        25               \n",
       "13  45  1        981                     0        30               \n",
       "14  50  1        168                     0        38               \n",
       "15  49  1         80                     0        30               \n",
       "16  82  1        379                     0        50               \n",
       "17  87  1        149                     0        38               \n",
       "18  45  0        582                     0        14               \n",
       "19  70  1        125                     0        25               \n",
       "20  48  1        582                     1        55               \n",
       "21  65  1         52                     0        25               \n",
       "22  65  1        128                     1        30               \n",
       "23  68  1        220                     0        35               \n",
       "24  53  0         63                     1        60               \n",
       "25  75  0        582                     1        30               \n",
       "26  80  0        148                     1        38               \n",
       "27  95  1        112                     0        40               \n",
       "28  70  0        122                     1        45               \n",
       "29  58  1         60                     0        38               \n",
       "30  82  0         70                     1        30               \n",
       "⋮   ⋮   ⋮       ⋮                        ⋮        ⋮                \n",
       "270 40  0        582                     1        35               \n",
       "271 44  0        582                     1        30               \n",
       "272 51  0        582                     1        40               \n",
       "273 67  0        213                     0        38               \n",
       "274 42  0         64                     0        40               \n",
       "275 60  1        257                     1        30               \n",
       "276 45  0        582                     0        38               \n",
       "277 70  0        618                     0        35               \n",
       "278 70  0        582                     1        38               \n",
       "279 50  1       1051                     1        30               \n",
       "280 55  0         84                     1        38               \n",
       "281 70  0       2695                     1        40               \n",
       "282 70  0        582                     0        40               \n",
       "283 42  0         64                     0        30               \n",
       "284 65  0       1688                     0        38               \n",
       "285 50  1         54                     0        40               \n",
       "286 55  1        170                     1        40               \n",
       "287 60  0        253                     0        35               \n",
       "288 45  0        582                     1        55               \n",
       "289 65  0        892                     1        35               \n",
       "290 90  1        337                     0        38               \n",
       "291 45  0        615                     1        55               \n",
       "292 60  0        320                     0        35               \n",
       "293 52  0        190                     1        38               \n",
       "294 63  1        103                     1        35               \n",
       "295 62  0         61                     1        38               \n",
       "296 55  0       1820                     0        38               \n",
       "297 45  0       2060                     1        60               \n",
       "298 45  0       2413                     0        38               \n",
       "299 50  0        196                     0        45               \n",
       "    high_blood_pressure platelets serum_creatinine serum_sodium sex smoking\n",
       "1   1                   265000    1.90             130          1   0      \n",
       "2   0                   263358    1.10             136          1   0      \n",
       "3   0                   162000    1.30             129          1   1      \n",
       "4   0                   210000    1.90             137          1   0      \n",
       "5   0                   327000    2.70             116          0   0      \n",
       "6   1                   204000    2.10             132          1   1      \n",
       "7   0                   127000    1.20             137          1   0      \n",
       "8   0                   454000    1.10             131          1   1      \n",
       "9   0                   263358    1.50             138          0   0      \n",
       "10  1                   388000    9.40             133          1   1      \n",
       "11  1                   368000    4.00             131          1   1      \n",
       "12  1                   253000    0.90             140          1   1      \n",
       "13  0                   136000    1.10             137          1   0      \n",
       "14  1                   276000    1.10             137          1   0      \n",
       "15  1                   427000    1.00             138          0   0      \n",
       "16  0                    47000    1.30             136          1   0      \n",
       "17  0                   262000    0.90             140          1   0      \n",
       "18  0                   166000    0.80             127          1   0      \n",
       "19  1                   237000    1.00             140          0   0      \n",
       "20  0                    87000    1.90             121          0   0      \n",
       "21  1                   276000    1.30             137          0   0      \n",
       "22  1                   297000    1.60             136          0   0      \n",
       "23  1                   289000    0.90             140          1   1      \n",
       "24  0                   368000    0.80             135          1   0      \n",
       "25  1                   263358    1.83             134          0   0      \n",
       "26  0                   149000    1.90             144          1   1      \n",
       "27  1                   196000    1.00             138          0   0      \n",
       "28  1                   284000    1.30             136          1   1      \n",
       "29  0                   153000    5.80             134          1   0      \n",
       "30  0                   200000    1.20             132          1   1      \n",
       "⋮   ⋮                   ⋮         ⋮                ⋮            ⋮   ⋮      \n",
       "270 0                   222000    1.0              132          1   0      \n",
       "271 1                   263358    1.6              130          1   1      \n",
       "272 0                   221000    0.9              134          0   0      \n",
       "273 0                   215000    1.2              133          0   0      \n",
       "274 0                   189000    0.7              140          1   0      \n",
       "275 0                   150000    1.0              137          1   1      \n",
       "276 1                   422000    0.8              137          0   0      \n",
       "277 0                   327000    1.1              142          0   0      \n",
       "278 0                    25100    1.1              140          1   0      \n",
       "279 0                   232000    0.7              136          0   0      \n",
       "280 0                   451000    1.3              136          0   0      \n",
       "281 0                   241000    1.0              137          1   0      \n",
       "282 0                    51000    2.7              136          1   1      \n",
       "283 0                   215000    3.8              128          1   1      \n",
       "284 0                   263358    1.1              138          1   1      \n",
       "285 0                   279000    0.8              141          1   0      \n",
       "286 0                   336000    1.2              135          1   0      \n",
       "287 0                   279000    1.7              140          1   0      \n",
       "288 0                   543000    1.0              132          0   0      \n",
       "289 0                   263358    1.1              142          0   0      \n",
       "290 0                   390000    0.9              144          0   0      \n",
       "291 0                   222000    0.8              141          0   0      \n",
       "292 0                   133000    1.4              139          1   0      \n",
       "293 0                   382000    1.0              140          1   1      \n",
       "294 0                   179000    0.9              136          1   1      \n",
       "295 1                   155000    1.1              143          1   1      \n",
       "296 0                   270000    1.2              139          0   0      \n",
       "297 0                   742000    0.8              138          0   0      \n",
       "298 0                   140000    1.4              140          1   1      \n",
       "299 0                   395000    1.6              136          1   1      \n",
       "    time DEATH_EVENT\n",
       "1    4   1          \n",
       "2    6   1          \n",
       "3    7   1          \n",
       "4    7   1          \n",
       "5    8   1          \n",
       "6    8   1          \n",
       "7   10   1          \n",
       "8   10   1          \n",
       "9   10   1          \n",
       "10  10   1          \n",
       "11  10   1          \n",
       "12  10   1          \n",
       "13  11   1          \n",
       "14  11   1          \n",
       "15  12   0          \n",
       "16  13   1          \n",
       "17  14   1          \n",
       "18  14   1          \n",
       "19  15   1          \n",
       "20  15   1          \n",
       "21  16   0          \n",
       "22  20   1          \n",
       "23  20   1          \n",
       "24  22   0          \n",
       "25  23   1          \n",
       "26  23   1          \n",
       "27  24   1          \n",
       "28  26   1          \n",
       "29  26   1          \n",
       "30  26   1          \n",
       "⋮   ⋮    ⋮          \n",
       "270 244  0          \n",
       "271 244  0          \n",
       "272 244  0          \n",
       "273 245  0          \n",
       "274 245  0          \n",
       "275 245  0          \n",
       "276 245  0          \n",
       "277 245  0          \n",
       "278 246  0          \n",
       "279 246  0          \n",
       "280 246  0          \n",
       "281 247  0          \n",
       "282 250  0          \n",
       "283 250  0          \n",
       "284 250  0          \n",
       "285 250  0          \n",
       "286 250  0          \n",
       "287 250  0          \n",
       "288 250  0          \n",
       "289 256  0          \n",
       "290 256  0          \n",
       "291 257  0          \n",
       "292 258  0          \n",
       "293 258  0          \n",
       "294 270  0          \n",
       "295 270  0          \n",
       "296 271  0          \n",
       "297 278  0          \n",
       "298 280  0          \n",
       "299 285  0          "
      ]
     },
     "metadata": {},
     "output_type": "display_data"
    }
   ],
   "source": [
    "data_clean <- data_hw %>%\n",
    "    distinct()\n",
    "\n",
    "data_clean\n",
    "#po použití metódy distinct sa počet dát nezmenil, čiže neobsahuje duplicitné záznamy ( 299 × 13)"
   ]
  },
  {
   "cell_type": "markdown",
   "id": "96a14512-f20f-499c-8398-d7cd3e6d1289",
   "metadata": {},
   "source": [
    "### Úloha 2 (1b)\n",
    "\n",
    "Skúmajte premennú 'sex' (pohlavie). Premenná je kódovaná hodnotami 0 a 1. ( 0 = žena, 1 = muž) "
   ]
  },
  {
   "cell_type": "code",
   "execution_count": 8,
   "id": "977467e5-d390-4ca4-93b1-33aa9cb576d6",
   "metadata": {
    "scrolled": true
   },
   "outputs": [
    {
     "data": {
      "text/plain": [
       "   Min. 1st Qu.  Median    Mean 3rd Qu.    Max. \n",
       " 0.0000  0.0000  1.0000  0.6488  1.0000  1.0000 "
      ]
     },
     "metadata": {},
     "output_type": "display_data"
    },
    {
     "data": {
      "text/html": [
       "<style>\n",
       ".list-inline {list-style: none; margin:0; padding: 0}\n",
       ".list-inline>li {display: inline-block}\n",
       ".list-inline>li:not(:last-child)::after {content: \"\\00b7\"; padding: 0 .5ex}\n",
       "</style>\n",
       "<ol class=list-inline><li>1</li><li>0</li></ol>\n"
      ],
      "text/latex": [
       "\\begin{enumerate*}\n",
       "\\item 1\n",
       "\\item 0\n",
       "\\end{enumerate*}\n"
      ],
      "text/markdown": [
       "1. 1\n",
       "2. 0\n",
       "\n",
       "\n"
      ],
      "text/plain": [
       "[1] 1 0"
      ]
     },
     "metadata": {},
     "output_type": "display_data"
    }
   ],
   "source": [
    "summary(data_hw$sex)\n",
    "unique(data_hw$sex)"
   ]
  },
  {
   "cell_type": "markdown",
   "id": "d7789c28-0857-4a4b-b89e-6bfc9569191f",
   "metadata": {},
   "source": [
    "**Koľko záznamov mužov a žien obsahuje dataset?**\n",
    "počet žien: 105\n",
    "počet mužov 194"
   ]
  },
  {
   "cell_type": "code",
   "execution_count": 10,
   "id": "10de0cec-d5fe-4977-802e-34142f1bbdf9",
   "metadata": {},
   "outputs": [
    {
     "data": {
      "text/html": [
       "105"
      ],
      "text/latex": [
       "105"
      ],
      "text/markdown": [
       "105"
      ],
      "text/plain": [
       "[1] 105"
      ]
     },
     "metadata": {},
     "output_type": "display_data"
    },
    {
     "data": {
      "text/html": [
       "194"
      ],
      "text/latex": [
       "194"
      ],
      "text/markdown": [
       "194"
      ],
      "text/plain": [
       "[1] 194"
      ]
     },
     "metadata": {},
     "output_type": "display_data"
    }
   ],
   "source": [
    "pocet_zien <- sum(data_hw$sex == 0)\n",
    "pocet_muzov <- sum(data_hw$sex == 1)\n",
    "pocet_zien\n",
    "pocet_muzov"
   ]
  },
  {
   "cell_type": "markdown",
   "id": "4f9085d2-e941-422b-b7f8-5708c0cdce73",
   "metadata": {},
   "source": [
    "**Koľko mužov a žien je nefajčiarov ? (0 = nefajčiar, 1 = fajčiar)** \n",
    "počet žien: 101 počet mužov 102"
   ]
  },
  {
   "cell_type": "code",
   "execution_count": 9,
   "id": "83d12ff6-4582-45e8-868f-9e8ea1ee52e7",
   "metadata": {},
   "outputs": [
    {
     "data": {
      "text/html": [
       "101"
      ],
      "text/latex": [
       "101"
      ],
      "text/markdown": [
       "101"
      ],
      "text/plain": [
       "[1] 101"
      ]
     },
     "metadata": {},
     "output_type": "display_data"
    },
    {
     "data": {
      "text/html": [
       "102"
      ],
      "text/latex": [
       "102"
      ],
      "text/markdown": [
       "102"
      ],
      "text/plain": [
       "[1] 102"
      ]
     },
     "metadata": {},
     "output_type": "display_data"
    }
   ],
   "source": [
    "pocet_zien_nefajciar <- sum(data_hw$sex == 0 & data_hw$smoking == 0)\n",
    "pocet_muzov_nefajciar <- sum(data_hw$sex == 1 & data_hw$smoking == 0)\n",
    "pocet_zien_nefajciar\n",
    "pocet_muzov_nefajciar"
   ]
  },
  {
   "cell_type": "markdown",
   "id": "ba365496-6912-408d-bcfc-a7f2993c148e",
   "metadata": {},
   "source": [
    "### Úloha 3 (1b)\n",
    "\n",
    "Popíšte premennú 'age' (vek)."
   ]
  },
  {
   "cell_type": "code",
   "execution_count": 27,
   "id": "12399271-25b2-4871-ab16-dcd9e0fd6f46",
   "metadata": {},
   "outputs": [
    {
     "data": {
      "text/plain": [
       "   Min. 1st Qu.  Median    Mean 3rd Qu.    Max. \n",
       "  40.00   51.00   60.00   60.83   70.00   95.00 "
      ]
     },
     "metadata": {},
     "output_type": "display_data"
    },
    {
     "data": {
      "text/html": [
       "<style>\n",
       ".list-inline {list-style: none; margin:0; padding: 0}\n",
       ".list-inline>li {display: inline-block}\n",
       ".list-inline>li:not(:last-child)::after {content: \"\\00b7\"; padding: 0 .5ex}\n",
       "</style>\n",
       "<ol class=list-inline><li>75</li><li>55</li><li>65</li><li>50</li><li>90</li><li>60</li><li>80</li><li>62</li><li>45</li><li>49</li><li>82</li><li>87</li><li>70</li><li>48</li><li>68</li><li>53</li><li>95</li><li>58</li><li>94</li><li>85</li><li>69</li><li>72</li><li>51</li><li>57</li><li>42</li><li>41</li><li>67</li><li>79</li><li>59</li><li>44</li><li>63</li><li>86</li><li>66</li><li>43</li><li>46</li><li>61</li><li>81</li><li>52</li><li>64</li><li>40</li><li>60.667</li><li>73</li><li>77</li><li>78</li><li>54</li><li>47</li><li>56</li></ol>\n"
      ],
      "text/latex": [
       "\\begin{enumerate*}\n",
       "\\item 75\n",
       "\\item 55\n",
       "\\item 65\n",
       "\\item 50\n",
       "\\item 90\n",
       "\\item 60\n",
       "\\item 80\n",
       "\\item 62\n",
       "\\item 45\n",
       "\\item 49\n",
       "\\item 82\n",
       "\\item 87\n",
       "\\item 70\n",
       "\\item 48\n",
       "\\item 68\n",
       "\\item 53\n",
       "\\item 95\n",
       "\\item 58\n",
       "\\item 94\n",
       "\\item 85\n",
       "\\item 69\n",
       "\\item 72\n",
       "\\item 51\n",
       "\\item 57\n",
       "\\item 42\n",
       "\\item 41\n",
       "\\item 67\n",
       "\\item 79\n",
       "\\item 59\n",
       "\\item 44\n",
       "\\item 63\n",
       "\\item 86\n",
       "\\item 66\n",
       "\\item 43\n",
       "\\item 46\n",
       "\\item 61\n",
       "\\item 81\n",
       "\\item 52\n",
       "\\item 64\n",
       "\\item 40\n",
       "\\item 60.667\n",
       "\\item 73\n",
       "\\item 77\n",
       "\\item 78\n",
       "\\item 54\n",
       "\\item 47\n",
       "\\item 56\n",
       "\\end{enumerate*}\n"
      ],
      "text/markdown": [
       "1. 75\n",
       "2. 55\n",
       "3. 65\n",
       "4. 50\n",
       "5. 90\n",
       "6. 60\n",
       "7. 80\n",
       "8. 62\n",
       "9. 45\n",
       "10. 49\n",
       "11. 82\n",
       "12. 87\n",
       "13. 70\n",
       "14. 48\n",
       "15. 68\n",
       "16. 53\n",
       "17. 95\n",
       "18. 58\n",
       "19. 94\n",
       "20. 85\n",
       "21. 69\n",
       "22. 72\n",
       "23. 51\n",
       "24. 57\n",
       "25. 42\n",
       "26. 41\n",
       "27. 67\n",
       "28. 79\n",
       "29. 59\n",
       "30. 44\n",
       "31. 63\n",
       "32. 86\n",
       "33. 66\n",
       "34. 43\n",
       "35. 46\n",
       "36. 61\n",
       "37. 81\n",
       "38. 52\n",
       "39. 64\n",
       "40. 40\n",
       "41. 60.667\n",
       "42. 73\n",
       "43. 77\n",
       "44. 78\n",
       "45. 54\n",
       "46. 47\n",
       "47. 56\n",
       "\n",
       "\n"
      ],
      "text/plain": [
       " [1] 75.000 55.000 65.000 50.000 90.000 60.000 80.000 62.000 45.000 49.000\n",
       "[11] 82.000 87.000 70.000 48.000 68.000 53.000 95.000 58.000 94.000 85.000\n",
       "[21] 69.000 72.000 51.000 57.000 42.000 41.000 67.000 79.000 59.000 44.000\n",
       "[31] 63.000 86.000 66.000 43.000 46.000 61.000 81.000 52.000 64.000 40.000\n",
       "[41] 60.667 73.000 77.000 78.000 54.000 47.000 56.000"
      ]
     },
     "metadata": {},
     "output_type": "display_data"
    }
   ],
   "source": [
    "summary(data_hw$age)\n",
    "unique(data_hw$age)\n"
   ]
  },
  {
   "cell_type": "markdown",
   "id": "fb2d9df9-7a57-414c-a13f-095acc8bb550",
   "metadata": {},
   "source": [
    "**Aký je minimálny, maximálny a priemerný vek pacientov v datasete?**\n",
    "min_vek: 40,\n",
    "max_vek: 95,\n",
    "priemerny: 60.834"
   ]
  },
  {
   "cell_type": "code",
   "execution_count": 32,
   "id": "33052acd-b061-4e58-a0b3-ee4516f5cef2",
   "metadata": {},
   "outputs": [
    {
     "data": {
      "text/html": [
       "40"
      ],
      "text/latex": [
       "40"
      ],
      "text/markdown": [
       "40"
      ],
      "text/plain": [
       "[1] 40"
      ]
     },
     "metadata": {},
     "output_type": "display_data"
    },
    {
     "data": {
      "text/html": [
       "95"
      ],
      "text/latex": [
       "95"
      ],
      "text/markdown": [
       "95"
      ],
      "text/plain": [
       "[1] 95"
      ]
     },
     "metadata": {},
     "output_type": "display_data"
    },
    {
     "data": {
      "text/html": [
       "60.8338929765886"
      ],
      "text/latex": [
       "60.8338929765886"
      ],
      "text/markdown": [
       "60.8338929765886"
      ],
      "text/plain": [
       "[1] 60.83389"
      ]
     },
     "metadata": {},
     "output_type": "display_data"
    }
   ],
   "source": [
    "min_vek <- min(data_hw$age)\n",
    "max_vek <- max(data_hw$age)\n",
    "priemerny_vek <- mean(data_hw$age)\n",
    "min_vek\n",
    "max_vek\n",
    "priemerny_vek"
   ]
  },
  {
   "cell_type": "markdown",
   "id": "65cf63d5-1b33-4d5e-9ce3-c99b01c2f588",
   "metadata": {},
   "source": [
    "**Z akého veku je v datasete najviac záznamov?** z veku 60r"
   ]
  },
  {
   "cell_type": "code",
   "execution_count": 14,
   "id": "baabd5ab-76f7-42f2-a8a6-16fa7907063a",
   "metadata": {},
   "outputs": [
    {
     "data": {
      "text/html": [
       "<strong>60:</strong> 21"
      ],
      "text/latex": [
       "\\textbf{60:} 21"
      ],
      "text/markdown": [
       "**60:** 21"
      ],
      "text/plain": [
       "60 \n",
       "21 "
      ]
     },
     "metadata": {},
     "output_type": "display_data"
    }
   ],
   "source": [
    "max_zaznamov_vek <- which.max(table(data_hw$age))\n",
    "max_zaznamov_vek\n"
   ]
  },
  {
   "cell_type": "markdown",
   "id": "6b93d9ab-556a-446f-a880-a5ab7743a96a",
   "metadata": {},
   "source": [
    "### Úloha 4 (1b)\n",
    "\n",
    "Pridajte do datasetu novú premennú s názvom `risk`, ktorá bude predstavovať riziko úmrtia pacienta po zlyhaní srdca. Táto premenná bude kategorická a bude obsahovať hodnoty 'Low' a 'High'. \n",
    "Premennú vytvorte na základe if-else rozhodovania podľa premenných 'age' a 'serum_creatinine':\n",
    "\n",
    "- Ak je vek pacienta väčší ako 50 a zároveň level kreatinínu v krvnom sére ('serum_creatinine') je väčší ako 1.2 mg/dL, tak hodnota premennej 'Risk' je 'High'.\n",
    "- V opačnom prípade je hodnota 'Low'\n",
    "\n",
    "- pre vytvorenie premennej použite funkciu ifelse - https://www.rdocumentation.org/packages/base/versions/3.6.2/topics/ifelse"
   ]
  },
  {
   "cell_type": "code",
   "execution_count": 18,
   "id": "6a9dadd2-509e-4fbf-81c4-99045ba4fa76",
   "metadata": {},
   "outputs": [],
   "source": [
    "data_hw$risk <- ifelse(data_hw$age > 50 & data_hw$serum_creatinine > 1.2, 'High', 'Low')"
   ]
  },
  {
   "cell_type": "markdown",
   "id": "bd48b605-4050-4860-8449-f9a4eb35e8fd",
   "metadata": {},
   "source": [
    "Vizualizujte vysoké riziko úmrtia pre jednotlivé vekové skupiny histogramom:\n",
    "\n",
    "- počet stĺpcov (atribút 'breaks') môže mať predvolenú hodnotu, nemusíte ho špecifikovať\n",
    "\n",
    "- funkcia hist - https://www.rdocumentation.org/packages/graphics/versions/3.6.2/topics/hist\n",
    "\n",
    "(hint: použite funkciu filter na záznamy, kde 'risk' == 'High', a v histograme ako dáta vložte hodnoty z premennej 'age')"
   ]
  },
  {
   "cell_type": "code",
   "execution_count": 19,
   "id": "13e02304-e867-43d4-a51e-92e2c9ae4dfe",
   "metadata": {},
   "outputs": [
    {
     "data": {
      "image/png": "[encoded data removed]",
      "text/plain": [
       "Plot with title \"Histogram vysokého rizika úmrtia\""
      ]
     },
     "metadata": {
      "image/png": {
       "height": 500,
       "width": 700
      }
     },
     "output_type": "display_data"
    }
   ],
   "source": [
    "filtered <- data_hw %>% \n",
    "    filter(risk == 'High')\n",
    "hist(filtered$age, xlab = \"Vek\", ylab = \"Počet\", main = \"Histogram vysokého rizika úmrtia\")\n"
   ]
  },
  {
   "cell_type": "markdown",
   "id": "beb9312b-dd82-46bb-89b0-ccb6dd2b8106",
   "metadata": {},
   "source": [
    "**V akom veku je riziko zlyhania srdca najväčšie?**"
   ]
  },
  {
   "cell_type": "code",
   "execution_count": 21,
   "id": "ec1cec4b-8153-43b2-9b11-8dfdf8aca57f",
   "metadata": {},
   "outputs": [
    {
     "data": {
      "text/html": [
       "<strong>60:</strong> 9"
      ],
      "text/latex": [
       "\\textbf{60:} 9"
      ],
      "text/markdown": [
       "**60:** 9"
      ],
      "text/plain": [
       "60 \n",
       " 9 "
      ]
     },
     "metadata": {},
     "output_type": "display_data"
    }
   ],
   "source": [
    "vek_max_riziko <- which.max(table(data_hw$age[data_hw$risk == 'High']))\n",
    "vek_max_riziko"
   ]
  },
  {
   "cell_type": "markdown",
   "id": "9ba90f86-6bdb-4f53-9c45-7284ff510535",
   "metadata": {},
   "source": [
    "**Koľko záznamov (približne) je v datasete v tejto vekovej kategórii?**"
   ]
  },
  {
   "cell_type": "code",
   "execution_count": 29,
   "id": "f752d73d-1167-41d3-8712-b09705d13e2e",
   "metadata": {},
   "outputs": [
    {
     "data": {
      "text/html": [
       "18"
      ],
      "text/latex": [
       "18"
      ],
      "text/markdown": [
       "18"
      ],
      "text/plain": [
       "[1] 18"
      ]
     },
     "metadata": {},
     "output_type": "display_data"
    }
   ],
   "source": [
    "age_count <- sum(data_hw$age == '60' & data_hw$risk == 'High' )\n",
    "age_count"
   ]
  },
  {
   "cell_type": "markdown",
   "id": "f5c0ddad-7e6c-4726-b729-3cfb349ee0b8",
   "metadata": {},
   "source": [
    "### Úloha 5 (1b)\n",
    "\n",
    "Analyzujte koreláciu medzi všetkými atribútmi tohto datasetu (napr. vytvorením correlation plot)\n",
    "\n",
    "- korelácia sa dá analyzovať iba na numerických premenných, preto musíte dátový typ premennej zmeniť na kategorický a ten uložiť vo formáte 'integer' alebo 'numeric'.\n"
   ]
  },
  {
   "cell_type": "code",
   "execution_count": 32,
   "id": "c8322950-1964-43ac-a3f6-d4bedb3802ea",
   "metadata": {
    "scrolled": true
   },
   "outputs": [
    {
     "data": {
      "image/png": "[encoded data removed]",
      "text/plain": [
       "Plot with title \"\""
      ]
     },
     "metadata": {
      "image/png": {
       "height": 500,
       "width": 700
      }
     },
     "output_type": "display_data"
    }
   ],
   "source": [
    "    library(corrplot)\n",
    "    data_hw$risk <- factor(data_hw$risk, levels = c(\"High\", \"Low\"))\n",
    "    data_hw$risk <- as.numeric(data_hw$risk)\n",
    "\n",
    "    correlation_matrix <- cor(data_hw)\n",
    "    corrplot(correlation_matrix)"
   ]
  },
  {
   "cell_type": "markdown",
   "id": "7964b789-3e0c-4478-a270-028d98af3994",
   "metadata": {},
   "source": [
    "**Ktoré atribúty majú medzi sebou najväčšiu zápornú koreláciu?** (uveďte prvé dve dvojice)"
   ]
  },
  {
   "cell_type": "markdown",
   "id": "480345d8-1f26-4e4b-9df9-1ad7cf33ab47",
   "metadata": {},
   "source": [
    "risk a serum_creatinine\n",
    "DEATH_EVENT a time"
   ]
  },
  {
   "cell_type": "markdown",
   "id": "45ccd281-4c3a-437b-9fea-a8433d6145ea",
   "metadata": {},
   "source": [
    "**Ktoré atribúty majú medzi sebou najväčšiu kladnú koreláciu?** (uveďte prvú dvojicu)"
   ]
  },
  {
   "cell_type": "markdown",
   "id": "0787d30c-138d-4c01-89b6-2ed015406381",
   "metadata": {},
   "source": [
    "sex and smoking"
   ]
  },
  {
   "cell_type": "markdown",
   "id": "4afda479-3c32-4956-b59f-c53c450a42ba",
   "metadata": {},
   "source": [
    "----\n",
    "\n",
    "Viac informácií o zlyhaní srdca: https://www.nhlbi.nih.gov/health/heart-failure"
   ]
  }
 ],
 "metadata": {
  "kernelspec": {
   "display_name": "R",
   "language": "R",
   "name": "ir"
  },
  "language_info": {
   "codemirror_mode": "r",
   "file_extension": ".r",
   "mimetype": "text/x-r-source",
   "name": "R",
   "pygments_lexer": "r",
   "version": "4.3.3"
  }
 },
 "nbformat": 4,
 "nbformat_minor": 5
}
